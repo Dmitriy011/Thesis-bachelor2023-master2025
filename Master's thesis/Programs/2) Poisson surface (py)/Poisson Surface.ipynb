{
 "cells": [
  {
   "cell_type": "code",
   "execution_count": 1,
   "id": "858abe44-ac3e-48dc-8339-cc5e71767e12",
   "metadata": {},
   "outputs": [
    {
     "name": "stdout",
     "output_type": "stream",
     "text": [
      "Jupyter environment detected. Enabling Open3D WebVisualizer.\n",
      "[Open3D INFO] WebRTC GUI backend enabled.\n",
      "[Open3D INFO] WebRTCWindowSystem: HTTP handshake server disabled.\n"
     ]
    }
   ],
   "source": [
    "import torch\n",
    "from transformers import GLPNImageProcessor, GLPNForDepthEstimation\n",
    "\n",
    "import numpy as np\n",
    "import matplotlib.pyplot as plt\n",
    "from PIL import Image\n",
    "import open3d as o3d"
   ]
  },
  {
   "cell_type": "code",
   "execution_count": 2,
   "id": "fc73e448-ff62-4d99-b938-0d75c6588eaa",
   "metadata": {},
   "outputs": [],
   "source": [
    "import cv2"
   ]
  },
  {
   "cell_type": "code",
   "execution_count": 3,
   "id": "d240847f-0925-4c96-a743-42da6b1a84bf",
   "metadata": {},
   "outputs": [],
   "source": [
    "def load_and_prepare_image(image_path):\n",
    "    image = Image.open(image_path)\n",
    "    h, w = 0, 0\n",
    "    \n",
    "    if image.height > 480:\n",
    "        h = 480\n",
    "    else:\n",
    "        h = image.height\n",
    "\n",
    "    h = h - (h % 32)\n",
    "    w = int(h * image.width / image.height)\n",
    "    \n",
    "    diff = w % 32\n",
    "    if diff < 16:\n",
    "        w = w - diff\n",
    "    else:\n",
    "        w + 32 - diff\n",
    "\n",
    "    return image.resize((w, h))"
   ]
  },
  {
   "cell_type": "code",
   "execution_count": 4,
   "id": "6af46433-ae27-41cf-9cb5-b67a48ffc2eb",
   "metadata": {},
   "outputs": [],
   "source": [
    "def predict_depth(model, inputs):\n",
    "    with torch.no_grad():\n",
    "        outputs = model(**inputs)\n",
    "        return outputs.predicted_depth"
   ]
  },
  {
   "cell_type": "code",
   "execution_count": 5,
   "id": "da892614-8015-4344-a73b-e547050e9680",
   "metadata": {},
   "outputs": [],
   "source": [
    "def remove_borders(depth_map, image, pad = 16):\n",
    "    depth_map = depth_map.squeeze().cpu().numpy() * 1000.0\n",
    "    depth_map = depth_map[pad:-pad, pad:-pad]\n",
    "    cropped_image = image.crop((pad, pad, image.width - pad, image.height - pad))\n",
    "    \n",
    "    return depth_map, cropped_image"
   ]
  },
  {
   "cell_type": "code",
   "execution_count": 6,
   "id": "e2972fa0-d193-4d76-b5ff-4de11a2c8d2d",
   "metadata": {},
   "outputs": [],
   "source": [
    "def visualize_results(image, depth_map):\n",
    "    fig, ax = plt.subplots(1, 2)\n",
    "\n",
    "    ax[0].set_title(\"Original Image\")\n",
    "    ax[1].set_title(\"Depth Map\")\n",
    "\n",
    "    ax[0].imshow(image)\n",
    "    ax[0].tick_params(left = False, bottom = False, labelleft = False, labelbottom = False)\n",
    "    ax[1].imshow(depth_map, cmap = 'jet')\n",
    "    ax[1].tick_params(left = False, bottom = False, labelleft = False, labelbottom = False)\n",
    "    plt.tight_layout()\n",
    "\n",
    "    plt.savefig(\"D://depth.png\")  # Сохраняем изображение\n",
    "    plt.close()  # Закрываем фигуру, чтобы не отображать её\n",
    "\n",
    "    plt.pause(5)"
   ]
  },
  {
   "cell_type": "code",
   "execution_count": 7,
   "id": "bb920bdf-3ad1-42a2-b85a-cfafb4e22a20",
   "metadata": {},
   "outputs": [],
   "source": [
    "def create_point_cloud(image, depth_map):\n",
    "    depth_image = (depth_map * 255 / np.max(depth_map)).astype('uint8')\n",
    "    image_array = np.array(image)\n",
    "    \n",
    "    depth_o3d = o3d.geometry.Image(depth_image)\n",
    "    image_o3d = o3d.geometry.Image(image_array)\n",
    "    image_RGBD = o3d.geometry.RGBDImage.create_from_color_and_depth(image_o3d, depth_o3d, convert_rgb_to_intensity = False)\n",
    "    \n",
    "    camera_intrinsic = o3d.camera.PinholeCameraIntrinsic()\n",
    "    camera_intrinsic.set_intrinsics(image.width, image.height, 500, 500, image.width * 0.5, image.height * 0.5)\n",
    "\n",
    "    point_cloud = o3d.geometry.PointCloud.create_from_rgbd_image(image_RGBD, camera_intrinsic)\n",
    "\n",
    "    print(f\"Количество точек: {len(point_cloud.points)}\")\n",
    "    \n",
    "    cleaned_point_cloud, indexes = point_cloud.remove_statistical_outlier(nb_neighbors = 20, std_ratio = 5)\n",
    "    point_cloud = point_cloud.select_by_index(indexes)\n",
    "\n",
    "    print(f\"Количество точек после удаления выбросов: {len(point_cloud.points)}\")\n",
    "    \n",
    "    point_cloud.estimate_normals()\n",
    "    point_cloud.orient_normals_to_align_with_direction()\n",
    "    \n",
    "    return point_cloud"
   ]
  },
  {
   "cell_type": "code",
   "execution_count": 8,
   "id": "44d9921d-f59c-4f37-840f-d534711b57f8",
   "metadata": {},
   "outputs": [],
   "source": [
    "def reconstruct_surface(point_cloud):\n",
    "    mesh = o3d.geometry.TriangleMesh.create_from_point_cloud_poisson(point_cloud, depth = 10, n_threads = 8)[0]\n",
    "    rotation = mesh.get_rotation_matrix_from_xyz((3.14159, 0, 0))\n",
    "    mesh.rotate(rotation, center = (0, 0, 0))\n",
    "    return mesh"
   ]
  },
  {
   "cell_type": "code",
   "execution_count": 9,
   "id": "f9832006-8106-4616-ab22-61e99e5ef2f3",
   "metadata": {},
   "outputs": [],
   "source": [
    "def save_and_visualize_mesh(mesh, point_cloud, output_path):\n",
    "    o3d.io.write_triangle_mesh(output_path, mesh)\n",
    "    o3d.visualization.draw_geometries([point_cloud])"
   ]
  },
  {
   "cell_type": "markdown",
   "id": "3d082e78-dd36-4252-b006-5cd7103ec12c",
   "metadata": {},
   "source": [
    "## Визуализация облака точек + 3D модель"
   ]
  },
  {
   "cell_type": "code",
   "execution_count": 13,
   "id": "8b8a3072-d3f9-44c3-8ee6-a12c2800d28d",
   "metadata": {},
   "outputs": [],
   "source": [
    "image = load_and_prepare_image(\"F://42.jpg\")\n",
    "    \n",
    "#  Инициализация модели для оценки глубины и экстрактора для подготавки изображения\n",
    "feature_extractor = GLPNImageProcessor.from_pretrained(\"vinvino02/glpn-nyu\")\n",
    "model = GLPNForDepthEstimation.from_pretrained(\"vinvino02/glpn-nyu\")\n",
    "x_inputs =  feature_extractor(images = image, return_tensors=\"pt\")\n",
    "predicted_depth = predict_depth(model, x_inputs)\n",
    "    \n",
    "depth_map, cropped_image = remove_borders(predicted_depth, image)\n",
    "visualize_results(cropped_image, depth_map)"
   ]
  },
  {
   "cell_type": "markdown",
   "id": "c4038dca-e8a0-4a94-be6a-e52dd5d7f89b",
   "metadata": {},
   "source": [
    "### ## Визуализация облака точек + 3D модель"
   ]
  },
  {
   "cell_type": "code",
   "execution_count": 19,
   "id": "a7e6bc7b-2b12-4dab-9d66-cf4191b0d00f",
   "metadata": {},
   "outputs": [
    {
     "data": {
      "image/png": "[encoded data removed]",
      "text/plain": [
       "<Figure size 640x480 with 1 Axes>"
      ]
     },
     "metadata": {},
     "output_type": "display_data"
    }
   ],
   "source": [
    "# Контур\n",
    "cropped_image_np = np.array(cropped_image)\n",
    "\n",
    "if len(cropped_image_np.shape) == 3 and cropped_image_np.shape[2] == 3:\n",
    "    cropped_image_gray = cv2.cvtColor(cropped_image_np, cv2.COLOR_RGB2GRAY)\n",
    "else:\n",
    "    cropped_image_gray = cropped_image_np\n",
    "\n",
    "image_cropped_cv = cropped_image_gray\n",
    "cv2.imwrite('D://output_image.jpg', image_cropped_cv)\n",
    "\n",
    "conture = cv2.Canny(image_cropped_cv, 100, 200)\n",
    "len(conture)\n",
    "\n",
    "def plot(title_str, image, index):\n",
    "    plt.subplot(2, 2, index)\n",
    "    plt.title(title_str)\n",
    "    plt.imshow(image, 'gray')\n",
    "    plt.gca().get_xaxis().set_visible(False)\n",
    "    plt.gca().get_yaxis().set_visible(False)\n",
    "\n",
    "plot('img_left', conture, 1)"
   ]
  },
  {
   "cell_type": "code",
   "execution_count": null,
   "id": "6a599b46-0a4a-4e81-981f-54481424cc49",
   "metadata": {},
   "outputs": [],
   "source": [
    "def apply_contour_mask(depth_map, image, contour_mask):\n",
    "    \"\"\"\n",
    "    Применяет маску контура к depth_map и изображению.\n",
    "    \"\"\"\n",
    "    # Применяем маску к depth_map\n",
    "    depth_map_masked = np.where(contour_mask == 255, depth_map, 0)  # Оставляем только значения на контуре\n",
    "    \n",
    "    # Применяем маску к изображению\n",
    "    image_array = np.array(image)\n",
    "    image_masked = np.zeros_like(image_array)  # Создаем пустое изображение\n",
    "    image_masked[contour_mask == 255] = image_array[contour_mask == 255]  # Копируем только пиксели на контуре\n",
    "    \n",
    "    # Преобразуем обратно в PIL Image\n",
    "    image_masked_pil = Image.fromarray(image_masked)\n",
    "    \n",
    "    return depth_map_masked, image_masked_pil\n",
    "\n",
    "# Применяем маску контура к depth_map и cropped_image\n",
    "depth_map_masked, image_masked = apply_contour_mask(depth_map, cropped_image, conture)"
   ]
  },
  {
   "cell_type": "code",
   "execution_count": null,
   "id": "79620a7f-c189-4d50-a985-b29050cecbd5",
   "metadata": {},
   "outputs": [],
   "source": [
    "point_cloud = create_point_cloud(image_masked, depth_map_masked)"
   ]
  },
  {
   "cell_type": "code",
   "execution_count": null,
   "id": "3b2b3cfd-31b8-40c3-95ef-f804056bd7e0",
   "metadata": {},
   "outputs": [],
   "source": [
    "mesh = reconstruct_surface(point_cloud)\n",
    "save_and_visualize_mesh(mesh, point_cloud, 'D://mesh0304_1.obj')"
   ]
  },
  {
   "cell_type": "code",
   "execution_count": null,
   "id": "2e128a25-d651-4dce-8ef7-2426131647f6",
   "metadata": {},
   "outputs": [],
   "source": []
  }
 ],
 "metadata": {
  "kernelspec": {
   "display_name": "Python 3 (ipykernel)",
   "language": "python",
   "name": "python3"
  },
  "language_info": {
   "codemirror_mode": {
    "name": "ipython",
    "version": 3
   },
   "file_extension": ".py",
   "mimetype": "text/x-python",
   "name": "python",
   "nbconvert_exporter": "python",
   "pygments_lexer": "ipython3",
   "version": "3.12.5"
  }
 },
 "nbformat": 4,
 "nbformat_minor": 5
}
