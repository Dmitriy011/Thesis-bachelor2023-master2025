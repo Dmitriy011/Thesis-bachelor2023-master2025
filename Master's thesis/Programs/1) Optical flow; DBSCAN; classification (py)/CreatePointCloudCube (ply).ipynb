{
 "cells": [
  {
   "cell_type": "code",
   "execution_count": 165,
   "id": "91d00ad9-a0e0-4357-8040-ef580c5ca676",
   "metadata": {},
   "outputs": [],
   "source": [
    "import matplotlib.pyplot as plt\n",
    "import numpy as np"
   ]
  },
  {
   "cell_type": "code",
   "execution_count": 166,
   "id": "198620bc-5927-4fbb-882d-16e542490349",
   "metadata": {},
   "outputs": [],
   "source": [
    "def convert_ply(points):\n",
    "    with open(r'E:\\test\\points.ply', 'w') as f:\n",
    "        f.write('ply\\n')\n",
    "        f.write('format ascii 1.0\\n')\n",
    "        f.write('element vertex {}\\n'.format(len(points)))\n",
    "        f.write('property float x\\n')\n",
    "        f.write('property float y\\n')\n",
    "        f.write('property float z\\n')\n",
    "        f.write('end_header\\n')\n",
    "        for point in points:\n",
    "            f.write('{:.2f} {:.2f} {:.2f}\\n'.format(point[0], point[2], point[1]))"
   ]
  },
  {
   "cell_type": "code",
   "execution_count": 181,
   "id": "7aec33ec-3871-41e7-9747-9c8e961d84fa",
   "metadata": {},
   "outputs": [],
   "source": [
    "def create_cube_points(scale=1):\n",
    "    \"\"\"Создает точки куба 1x1x1 с заданным масштабом и количеством точек на каждой грани.\n",
    "\n",
    "    Args:\n",
    "        scale: Масштаб куба.\n",
    "\n",
    "    Returns:\n",
    "        Список точек куба.\n",
    "    \"\"\"\n",
    "\n",
    "    # Вершины куба\n",
    "    vertices = np.array([\n",
    "        [0, 0, 0],\n",
    "        [1, 0, 0],\n",
    "        [1, 1, 0],\n",
    "        [0, 1, 0],\n",
    "        [0, 0, 1],\n",
    "        [1, 0, 1],\n",
    "        [1, 1, 1],\n",
    "        [0, 1, 1]\n",
    "    ])\n",
    "\n",
    "    # Точки вдоль ребер (с интервалом 0.2)\n",
    "    edges = []\n",
    "    for i in range(8):\n",
    "        for j in range(i + 1, 8):\n",
    "            if np.sum(np.abs(vertices[i] - vertices[j])) == 1:\n",
    "                edge_points = np.linspace(vertices[i], vertices[j], 10000)  # 5 точек на ребре\n",
    "                edges.extend(edge_points[1:-1].tolist())\n",
    "                \n",
    "    # Масштабирование всех точек\n",
    "    vertices = [point * scale for point in vertices]\n",
    "    edges = [point * scale for point in edges]\n",
    "\n",
    "    # Объединение всех точек\n",
    "    all_points = vertices + edges\n",
    "\n",
    "    return all_points"
   ]
  },
  {
   "cell_type": "code",
   "execution_count": 182,
   "id": "fbba198b-1aa1-444c-b2b7-501d287d5741",
   "metadata": {},
   "outputs": [],
   "source": [
    "cube_point = create_cube_points(1)\n",
    "convert_ply(cube_point)\n"
   ]
  },
  {
   "cell_type": "code",
   "execution_count": 183,
   "id": "6074a21e-8a85-4071-ab58-63ea8d8c4a91",
   "metadata": {},
   "outputs": [
    {
     "data": {
      "text/plain": [
       "119984"
      ]
     },
     "execution_count": 183,
     "metadata": {},
     "output_type": "execute_result"
    }
   ],
   "source": [
    "len(cube_point)"
   ]
  },
  {
   "cell_type": "code",
   "execution_count": null,
   "id": "5bdc7352-d8ca-4237-9412-230a906d283e",
   "metadata": {},
   "outputs": [],
   "source": []
  },
  {
   "cell_type": "code",
   "execution_count": null,
   "id": "b6f380f6-59ec-4ba0-9be8-a569907024b5",
   "metadata": {},
   "outputs": [],
   "source": []
  }
 ],
 "metadata": {
  "kernelspec": {
   "display_name": "Python 3 (ipykernel)",
   "language": "python",
   "name": "python3"
  },
  "language_info": {
   "codemirror_mode": {
    "name": "ipython",
    "version": 3
   },
   "file_extension": ".py",
   "mimetype": "text/x-python",
   "name": "python",
   "nbconvert_exporter": "python",
   "pygments_lexer": "ipython3",
   "version": "3.12.5"
  }
 },
 "nbformat": 4,
 "nbformat_minor": 5
}
